{
 "cells": [
  {
   "cell_type": "markdown",
   "id": "together-shaft",
   "metadata": {},
   "source": [
    "# Checkpoint to SavedModel"
   ]
  },
  {
   "cell_type": "code",
   "execution_count": 1,
   "id": "fleet-minnesota",
   "metadata": {},
   "outputs": [],
   "source": [
    "import os, sys\n",
    "\n",
    "import tensorflow as tf\n",
    "\n",
    "sys.path.append('..')\n",
    "from config.train_options import TrainOptions\n",
    "from GazeGAN import Gaze_GAN2"
   ]
  },
  {
   "cell_type": "code",
   "execution_count": 2,
   "id": "dying-appendix",
   "metadata": {},
   "outputs": [],
   "source": [
    "opt = {\n",
    "    'nef': 32,\n",
    "    'n_layers_e': 4,\n",
    "    'use_sp': True, \n",
    "    'ngf': 16,\n",
    "    'n_layers_g': 5,\n",
    "    'n_layers_d': 5,\n",
    "    'output_nc': 3,\n",
    "    'ndf': 16,\n",
    "    'is_ss': False,\n",
    "}\n",
    "\n",
    "class Bunch(object):\n",
    "    def __init__(self, adict):\n",
    "        self.__dict__.update(adict)\n",
    "opt = Bunch(opt)    "
   ]
  },
  {
   "cell_type": "code",
   "execution_count": 3,
   "id": "excess-intensity",
   "metadata": {},
   "outputs": [],
   "source": [
    "eye_encoder, eye_decoder, _, _ = Gaze_GAN2(opt).build_train_model()\n",
    "optimizer = tf.keras.optimizers.Adam()"
   ]
  },
  {
   "cell_type": "code",
   "execution_count": 4,
   "id": "basic-century",
   "metadata": {},
   "outputs": [
    {
     "name": "stdout",
     "output_type": "stream",
     "text": [
      " Volume in drive G is HDD 4TB\n",
      " Volume Serial Number is 0A81-768C\n",
      "\n",
      " Directory of G:\\Github\\GazeCorrection_Fork\\eye_encoder_checkpoints\n",
      "\n",
      "2021-02-10  19:56    <DIR>          .\n",
      "2021-02-10  19:56    <DIR>          ..\n",
      "2021-02-10  19:47               526 checkpoint\n",
      "2021-02-10  19:29        54ÿ691ÿ018 ckpt-15.data-00000-of-00001\n",
      "2021-02-10  19:29             9ÿ186 ckpt-15.index\n",
      "2021-02-10  19:33        54ÿ691ÿ018 ckpt-16.data-00000-of-00001\n",
      "2021-02-10  19:33             9ÿ186 ckpt-16.index\n",
      "2021-02-10  19:38        54ÿ691ÿ018 ckpt-17.data-00000-of-00001\n",
      "2021-02-10  19:38             9ÿ186 ckpt-17.index\n",
      "2021-02-10  19:42        54ÿ691ÿ018 ckpt-18.data-00000-of-00001\n",
      "2021-02-10  19:42             9ÿ186 ckpt-18.index\n",
      "2021-02-10  19:47        54ÿ691ÿ018 ckpt-19.data-00000-of-00001\n",
      "2021-02-10  19:47             9ÿ186 ckpt-19.index\n",
      "2021-02-10  17:46           347ÿ630 test_samples00.png\n",
      "2021-02-10  17:51           342ÿ831 test_samples01.png\n",
      "2021-02-10  17:55           335ÿ497 test_samples02.png\n",
      "2021-02-10  18:00           333ÿ592 test_samples03.png\n",
      "2021-02-10  18:04           338ÿ957 test_samples04.png\n",
      "2021-02-10  18:08           314ÿ628 test_samples05.png\n",
      "2021-02-10  18:13           314ÿ040 test_samples06.png\n",
      "2021-02-10  18:17           323ÿ194 test_samples07.png\n",
      "2021-02-10  18:22           314ÿ881 test_samples08.png\n",
      "2021-02-10  18:26           308ÿ383 test_samples09.png\n",
      "2021-02-10  18:31           310ÿ137 test_samples10.png\n",
      "2021-02-10  18:35           318ÿ756 test_samples11.png\n",
      "2021-02-10  18:40           313ÿ475 test_samples12.png\n",
      "2021-02-10  18:44           288ÿ374 test_samples13.png\n",
      "2021-02-10  18:49           315ÿ087 test_samples14.png\n",
      "2021-02-10  18:53           313ÿ079 test_samples15.png\n",
      "2021-02-10  18:57           316ÿ742 test_samples16.png\n",
      "2021-02-10  19:02           316ÿ024 test_samples17.png\n",
      "2021-02-10  19:06           310ÿ621 test_samples18.png\n",
      "2021-02-10  19:11           304ÿ645 test_samples19.png\n",
      "2021-02-10  19:15           316ÿ658 test_samples20.png\n",
      "2021-02-10  19:20           317ÿ729 test_samples21.png\n",
      "2021-02-10  19:24           298ÿ739 test_samples22.png\n",
      "2021-02-10  19:29           306ÿ568 test_samples23.png\n",
      "2021-02-10  19:33           302ÿ186 test_samples24.png\n",
      "2021-02-10  19:38           286ÿ211 test_samples25.png\n",
      "2021-02-10  19:42           307ÿ795 test_samples26.png\n",
      "2021-02-10  19:47           319ÿ093 test_samples27.png\n",
      "2021-02-10  19:52           313ÿ742 test_samples28.png\n",
      "2021-02-10  19:56           291ÿ480 test_samples29.png\n",
      "2021-02-10  19:47               288 validation_losses.npy\n",
      "              42 File(s)    282ÿ942ÿ608 bytes\n",
      "               2 Dir(s)  3ÿ920ÿ888ÿ193ÿ024 bytes free\n"
     ]
    }
   ],
   "source": [
    "!dir \"../eye_encoder_checkpoints\"\n",
    "checkpoint_path = \"../eye_encoder_checkpoints/ckpt-19\"\n"
   ]
  },
  {
   "cell_type": "code",
   "execution_count": 5,
   "id": "signal-vietnam",
   "metadata": {},
   "outputs": [],
   "source": [
    "checkpoint = tf.train.Checkpoint(\n",
    "        optimizer=optimizer,\n",
    "        eye_encoder=eye_encoder,\n",
    "        eye_decoder=eye_decoder\n",
    "        )\n"
   ]
  },
  {
   "cell_type": "code",
   "execution_count": 6,
   "id": "documentary-ranking",
   "metadata": {},
   "outputs": [
    {
     "data": {
      "text/plain": [
       "<tensorflow.python.training.tracking.util.CheckpointLoadStatus at 0x14c9a0e76a0>"
      ]
     },
     "execution_count": 6,
     "metadata": {},
     "output_type": "execute_result"
    }
   ],
   "source": [
    "checkpoint.restore(checkpoint_path)"
   ]
  },
  {
   "cell_type": "code",
   "execution_count": 7,
   "id": "brave-stomach",
   "metadata": {},
   "outputs": [],
   "source": [
    "save_path = \"models/eye_encoder\"\n",
    "eye_encoder._name = 'eye_encoder'"
   ]
  },
  {
   "cell_type": "code",
   "execution_count": 8,
   "id": "broad-effort",
   "metadata": {},
   "outputs": [
    {
     "name": "stdout",
     "output_type": "stream",
     "text": [
      "INFO:tensorflow:Assets written to: models/eye_encoder\\assets\n"
     ]
    }
   ],
   "source": [
    "eye_encoder.save(save_path)"
   ]
  },
  {
   "cell_type": "markdown",
   "id": "reverse-quality",
   "metadata": {},
   "source": [
    "# Load SavedModel\n"
   ]
  },
  {
   "cell_type": "code",
   "execution_count": 9,
   "id": "affected-academy",
   "metadata": {},
   "outputs": [],
   "source": [
    "import tensorflow as tf"
   ]
  },
  {
   "cell_type": "code",
   "execution_count": 10,
   "id": "impossible-imagination",
   "metadata": {},
   "outputs": [],
   "source": [
    "save_path = \"models/\""
   ]
  },
  {
   "cell_type": "code",
   "execution_count": 9,
   "id": "departmental-crowd",
   "metadata": {},
   "outputs": [
    {
     "name": "stderr",
     "output_type": "stream",
     "text": [
      "WARNING:root:The given value for groups will be overwritten.\n",
      "WARNING:root:The given value for groups will be overwritten.\n",
      "WARNING:root:The given value for groups will be overwritten.\n",
      "WARNING:root:The given value for groups will be overwritten.\n",
      "WARNING:root:The given value for groups will be overwritten.\n"
     ]
    }
   ],
   "source": [
    "model = tf.keras.models.load_model(save_path, compile=False)"
   ]
  },
  {
   "cell_type": "code",
   "execution_count": 12,
   "id": "arabic-credits",
   "metadata": {},
   "outputs": [
    {
     "name": "stdout",
     "output_type": "stream",
     "text": [
      "Model: \"eye_encoder\"\n",
      "_________________________________________________________________\n",
      "Layer (type)                 Output Shape              Param #   \n",
      "=================================================================\n",
      "input_1 (InputLayer)         [(None, 128, 128, 3)]     0         \n",
      "_________________________________________________________________\n",
      "conv2d (Conv2D)              (None, 128, 128, 32)      4736      \n",
      "_________________________________________________________________\n",
      "instance_normalization (Inst (None, 128, 128, 32)      64        \n",
      "_________________________________________________________________\n",
      "re_lu (ReLU)                 (None, 128, 128, 32)      0         \n",
      "_________________________________________________________________\n",
      "conv2d_1 (Conv2D)            (None, 64, 64, 64)        32832     \n",
      "_________________________________________________________________\n",
      "instance_normalization_1 (In (None, 64, 64, 64)        128       \n",
      "_________________________________________________________________\n",
      "re_lu_1 (ReLU)               (None, 64, 64, 64)        0         \n",
      "_________________________________________________________________\n",
      "conv2d_2 (Conv2D)            (None, 32, 32, 128)       131200    \n",
      "_________________________________________________________________\n",
      "instance_normalization_2 (In (None, 32, 32, 128)       256       \n",
      "_________________________________________________________________\n",
      "re_lu_2 (ReLU)               (None, 32, 32, 128)       0         \n",
      "_________________________________________________________________\n",
      "conv2d_3 (Conv2D)            (None, 16, 16, 128)       262272    \n",
      "_________________________________________________________________\n",
      "instance_normalization_3 (In (None, 16, 16, 128)       256       \n",
      "_________________________________________________________________\n",
      "re_lu_3 (ReLU)               (None, 16, 16, 128)       0         \n",
      "_________________________________________________________________\n",
      "conv2d_4 (Conv2D)            (None, 8, 8, 128)         262272    \n",
      "_________________________________________________________________\n",
      "instance_normalization_4 (In (None, 8, 8, 128)         256       \n",
      "_________________________________________________________________\n",
      "re_lu_4 (ReLU)               (None, 8, 8, 128)         0         \n",
      "_________________________________________________________________\n",
      "flatten (Flatten)            (None, 8192)              0         \n",
      "_________________________________________________________________\n",
      "dense (Dense)                (None, 128)               1048704   \n",
      "=================================================================\n",
      "Total params: 1,742,976\n",
      "Trainable params: 1,742,976\n",
      "Non-trainable params: 0\n",
      "_________________________________________________________________\n"
     ]
    }
   ],
   "source": [
    "model.summary()"
   ]
  },
  {
   "cell_type": "markdown",
   "id": "boolean-communist",
   "metadata": {},
   "source": [
    "# Visualize "
   ]
  },
  {
   "cell_type": "code",
   "execution_count": 13,
   "id": "bottom-transparency",
   "metadata": {},
   "outputs": [],
   "source": [
    "import os, sys\n",
    "\n",
    "import matplotlib.pyplot as plt\n",
    "import numpy as np\n",
    "import tensorflow as tf\n",
    "\n",
    "\n",
    "sys.path.append('..')\n",
    "from config.train_options import TrainOptions\n",
    "from GazeGAN import Gaze_GAN2"
   ]
  },
  {
   "cell_type": "code",
   "execution_count": 14,
   "id": "reasonable-botswana",
   "metadata": {},
   "outputs": [
    {
     "ename": "RuntimeError",
     "evalue": "Physical devices cannot be modified after being initialized",
     "output_type": "error",
     "traceback": [
      "\u001b[1;31m---------------------------------------------------------------------------\u001b[0m",
      "\u001b[1;31mRuntimeError\u001b[0m                              Traceback (most recent call last)",
      "\u001b[1;32m<ipython-input-14-ff57c571bd97>\u001b[0m in \u001b[0;36m<module>\u001b[1;34m\u001b[0m\n\u001b[0;32m      5\u001b[0m \u001b[0mgpus\u001b[0m \u001b[1;33m=\u001b[0m \u001b[0mtf\u001b[0m\u001b[1;33m.\u001b[0m\u001b[0mconfig\u001b[0m\u001b[1;33m.\u001b[0m\u001b[0mexperimental\u001b[0m\u001b[1;33m.\u001b[0m\u001b[0mlist_physical_devices\u001b[0m\u001b[1;33m(\u001b[0m\u001b[1;34m'GPU'\u001b[0m\u001b[1;33m)\u001b[0m\u001b[1;33m\u001b[0m\u001b[1;33m\u001b[0m\u001b[0m\n\u001b[0;32m      6\u001b[0m \u001b[1;32mfor\u001b[0m \u001b[0mgpu\u001b[0m \u001b[1;32min\u001b[0m \u001b[0mgpus\u001b[0m\u001b[1;33m:\u001b[0m\u001b[1;33m\u001b[0m\u001b[1;33m\u001b[0m\u001b[0m\n\u001b[1;32m----> 7\u001b[1;33m     \u001b[0mtf\u001b[0m\u001b[1;33m.\u001b[0m\u001b[0mconfig\u001b[0m\u001b[1;33m.\u001b[0m\u001b[0mexperimental\u001b[0m\u001b[1;33m.\u001b[0m\u001b[0mset_memory_growth\u001b[0m\u001b[1;33m(\u001b[0m\u001b[0mgpu\u001b[0m\u001b[1;33m,\u001b[0m \u001b[1;32mTrue\u001b[0m\u001b[1;33m)\u001b[0m\u001b[1;33m\u001b[0m\u001b[1;33m\u001b[0m\u001b[0m\n\u001b[0m",
      "\u001b[1;32m~\\.conda\\envs\\tensorflow2\\lib\\site-packages\\tensorflow\\python\\framework\\config.py\u001b[0m in \u001b[0;36mset_memory_growth\u001b[1;34m(device, enable)\u001b[0m\n\u001b[0;32m    592\u001b[0m     \u001b[0mRuntimeError\u001b[0m\u001b[1;33m:\u001b[0m \u001b[0mRuntime\u001b[0m \u001b[1;32mis\u001b[0m \u001b[0malready\u001b[0m \u001b[0minitialized\u001b[0m\u001b[1;33m.\u001b[0m\u001b[1;33m\u001b[0m\u001b[1;33m\u001b[0m\u001b[0m\n\u001b[0;32m    593\u001b[0m   \"\"\"\n\u001b[1;32m--> 594\u001b[1;33m   \u001b[0mcontext\u001b[0m\u001b[1;33m.\u001b[0m\u001b[0mcontext\u001b[0m\u001b[1;33m(\u001b[0m\u001b[1;33m)\u001b[0m\u001b[1;33m.\u001b[0m\u001b[0mset_memory_growth\u001b[0m\u001b[1;33m(\u001b[0m\u001b[0mdevice\u001b[0m\u001b[1;33m,\u001b[0m \u001b[0menable\u001b[0m\u001b[1;33m)\u001b[0m\u001b[1;33m\u001b[0m\u001b[1;33m\u001b[0m\u001b[0m\n\u001b[0m\u001b[0;32m    595\u001b[0m \u001b[1;33m\u001b[0m\u001b[0m\n\u001b[0;32m    596\u001b[0m \u001b[1;33m\u001b[0m\u001b[0m\n",
      "\u001b[1;32m~\\.conda\\envs\\tensorflow2\\lib\\site-packages\\tensorflow\\python\\eager\\context.py\u001b[0m in \u001b[0;36mset_memory_growth\u001b[1;34m(self, dev, enable)\u001b[0m\n\u001b[0;32m   1446\u001b[0m \u001b[1;33m\u001b[0m\u001b[0m\n\u001b[0;32m   1447\u001b[0m     \u001b[1;32mif\u001b[0m \u001b[0mself\u001b[0m\u001b[1;33m.\u001b[0m\u001b[0m_context_handle\u001b[0m \u001b[1;32mis\u001b[0m \u001b[1;32mnot\u001b[0m \u001b[1;32mNone\u001b[0m\u001b[1;33m:\u001b[0m\u001b[1;33m\u001b[0m\u001b[1;33m\u001b[0m\u001b[0m\n\u001b[1;32m-> 1448\u001b[1;33m       raise RuntimeError(\n\u001b[0m\u001b[0;32m   1449\u001b[0m           \"Physical devices cannot be modified after being initialized\")\n\u001b[0;32m   1450\u001b[0m \u001b[1;33m\u001b[0m\u001b[0m\n",
      "\u001b[1;31mRuntimeError\u001b[0m: Physical devices cannot be modified after being initialized"
     ]
    }
   ],
   "source": [
    "# Force TF to use CPU\n",
    "#os.environ[\"CUDA_VISIBLE_DEVICES\"] = \"1\"  # Force TF to use only the CPU\n",
    "\n",
    "\n",
    "gpus = tf.config.experimental.list_physical_devices('GPU')\n",
    "for gpu in gpus:\n",
    "    tf.config.experimental.set_memory_growth(gpu, True)"
   ]
  },
  {
   "cell_type": "code",
   "execution_count": 15,
   "id": "together-transportation",
   "metadata": {},
   "outputs": [],
   "source": [
    "opt = {\n",
    "    'nef': 32,\n",
    "    'n_layers_e': 4,\n",
    "    'use_sp': True, \n",
    "    'ngf': 16,\n",
    "    'n_layers_g': 5,\n",
    "    'n_layers_d': 5,\n",
    "    'output_nc': 3,\n",
    "    'ndf': 16,\n",
    "    'is_ss': False,\n",
    "}\n",
    "\n",
    "class Bunch(object):\n",
    "    def __init__(self, adict):\n",
    "        self.__dict__.update(adict)\n",
    "opt = Bunch(opt)    "
   ]
  },
  {
   "cell_type": "code",
   "execution_count": 16,
   "id": "metallic-adolescent",
   "metadata": {},
   "outputs": [],
   "source": [
    "eye_encoder, eye_decoder, _, _ = Gaze_GAN2(opt).build_train_model()\n",
    "optimizer = tf.keras.optimizers.Adam()"
   ]
  },
  {
   "cell_type": "code",
   "execution_count": 17,
   "id": "several-emission",
   "metadata": {},
   "outputs": [
    {
     "name": "stdout",
     "output_type": "stream",
     "text": [
      " Volume in drive G is HDD 4TB\n",
      " Volume Serial Number is 0A81-768C\n",
      "\n",
      " Directory of G:\\Github\\GazeCorrection_Fork\\eye_encoder_checkpoints\n",
      "\n",
      "2021-02-10  19:56    <DIR>          .\n",
      "2021-02-10  19:56    <DIR>          ..\n",
      "2021-02-10  19:47               526 checkpoint\n",
      "2021-02-10  19:29        54ÿ691ÿ018 ckpt-15.data-00000-of-00001\n",
      "2021-02-10  19:29             9ÿ186 ckpt-15.index\n",
      "2021-02-10  19:33        54ÿ691ÿ018 ckpt-16.data-00000-of-00001\n",
      "2021-02-10  19:33             9ÿ186 ckpt-16.index\n",
      "2021-02-10  19:38        54ÿ691ÿ018 ckpt-17.data-00000-of-00001\n",
      "2021-02-10  19:38             9ÿ186 ckpt-17.index\n",
      "2021-02-10  19:42        54ÿ691ÿ018 ckpt-18.data-00000-of-00001\n",
      "2021-02-10  19:42             9ÿ186 ckpt-18.index\n",
      "2021-02-10  19:47        54ÿ691ÿ018 ckpt-19.data-00000-of-00001\n",
      "2021-02-10  19:47             9ÿ186 ckpt-19.index\n",
      "2021-02-10  17:46           347ÿ630 test_samples00.png\n",
      "2021-02-10  17:51           342ÿ831 test_samples01.png\n",
      "2021-02-10  17:55           335ÿ497 test_samples02.png\n",
      "2021-02-10  18:00           333ÿ592 test_samples03.png\n",
      "2021-02-10  18:04           338ÿ957 test_samples04.png\n",
      "2021-02-10  18:08           314ÿ628 test_samples05.png\n",
      "2021-02-10  18:13           314ÿ040 test_samples06.png\n",
      "2021-02-10  18:17           323ÿ194 test_samples07.png\n",
      "2021-02-10  18:22           314ÿ881 test_samples08.png\n",
      "2021-02-10  18:26           308ÿ383 test_samples09.png\n",
      "2021-02-10  18:31           310ÿ137 test_samples10.png\n",
      "2021-02-10  18:35           318ÿ756 test_samples11.png\n",
      "2021-02-10  18:40           313ÿ475 test_samples12.png\n",
      "2021-02-10  18:44           288ÿ374 test_samples13.png\n",
      "2021-02-10  18:49           315ÿ087 test_samples14.png\n",
      "2021-02-10  18:53           313ÿ079 test_samples15.png\n",
      "2021-02-10  18:57           316ÿ742 test_samples16.png\n",
      "2021-02-10  19:02           316ÿ024 test_samples17.png\n",
      "2021-02-10  19:06           310ÿ621 test_samples18.png\n",
      "2021-02-10  19:11           304ÿ645 test_samples19.png\n",
      "2021-02-10  19:15           316ÿ658 test_samples20.png\n",
      "2021-02-10  19:20           317ÿ729 test_samples21.png\n",
      "2021-02-10  19:24           298ÿ739 test_samples22.png\n",
      "2021-02-10  19:29           306ÿ568 test_samples23.png\n",
      "2021-02-10  19:33           302ÿ186 test_samples24.png\n",
      "2021-02-10  19:38           286ÿ211 test_samples25.png\n",
      "2021-02-10  19:42           307ÿ795 test_samples26.png\n",
      "2021-02-10  19:47           319ÿ093 test_samples27.png\n",
      "2021-02-10  19:52           313ÿ742 test_samples28.png\n",
      "2021-02-10  19:56           291ÿ480 test_samples29.png\n",
      "2021-02-10  19:47               288 validation_losses.npy\n",
      "              42 File(s)    282ÿ942ÿ608 bytes\n",
      "               2 Dir(s)  3ÿ920ÿ482ÿ529ÿ280 bytes free\n"
     ]
    }
   ],
   "source": [
    "!dir \"../eye_encoder_checkpoints\"\n",
    "checkpoint_path = \"../eye_encoder_checkpoints/ckpt-19\"\n"
   ]
  },
  {
   "cell_type": "code",
   "execution_count": 18,
   "id": "black-cigarette",
   "metadata": {},
   "outputs": [],
   "source": [
    "checkpoint = tf.train.Checkpoint(\n",
    "        optimizer=optimizer,\n",
    "        eye_encoder=eye_encoder,\n",
    "        eye_decoder=eye_decoder\n",
    "        )\n"
   ]
  },
  {
   "cell_type": "code",
   "execution_count": 19,
   "id": "bottom-malpractice",
   "metadata": {},
   "outputs": [
    {
     "data": {
      "text/plain": [
       "<tensorflow.python.training.tracking.util.CheckpointLoadStatus at 0x20acdfd2a60>"
      ]
     },
     "execution_count": 19,
     "metadata": {},
     "output_type": "execute_result"
    }
   ],
   "source": [
    "checkpoint.restore(checkpoint_path)"
   ]
  },
  {
   "cell_type": "code",
   "execution_count": 20,
   "id": "stone-macro",
   "metadata": {},
   "outputs": [
    {
     "ename": "InternalError",
     "evalue": "Blas GEMM launch failed : a.shape=(1, 8192), b.shape=(8192, 128), m=1, n=128, k=8192 [Op:MatMul]",
     "output_type": "error",
     "traceback": [
      "\u001b[1;31m---------------------------------------------------------------------------\u001b[0m",
      "\u001b[1;31mInternalError\u001b[0m                             Traceback (most recent call last)",
      "\u001b[1;32m<ipython-input-20-9dfe3d79e766>\u001b[0m in \u001b[0;36m<module>\u001b[1;34m\u001b[0m\n\u001b[0;32m      1\u001b[0m \u001b[0mx\u001b[0m \u001b[1;33m=\u001b[0m \u001b[0mnp\u001b[0m\u001b[1;33m.\u001b[0m\u001b[0mones\u001b[0m\u001b[1;33m(\u001b[0m\u001b[1;33m[\u001b[0m\u001b[1;36m1\u001b[0m\u001b[1;33m,\u001b[0m \u001b[1;36m128\u001b[0m\u001b[1;33m,\u001b[0m \u001b[1;36m128\u001b[0m\u001b[1;33m,\u001b[0m \u001b[1;36m3\u001b[0m\u001b[1;33m]\u001b[0m\u001b[1;33m)\u001b[0m\u001b[1;33m\u001b[0m\u001b[1;33m\u001b[0m\u001b[0m\n\u001b[0;32m      2\u001b[0m \u001b[1;33m\u001b[0m\u001b[0m\n\u001b[1;32m----> 3\u001b[1;33m \u001b[0my\u001b[0m \u001b[1;33m=\u001b[0m \u001b[0meye_decoder\u001b[0m\u001b[1;33m(\u001b[0m\u001b[0meye_encoder\u001b[0m\u001b[1;33m(\u001b[0m\u001b[0mx\u001b[0m\u001b[1;33m)\u001b[0m\u001b[1;33m)\u001b[0m\u001b[1;33m\u001b[0m\u001b[1;33m\u001b[0m\u001b[0m\n\u001b[0m",
      "\u001b[1;32m~\\.conda\\envs\\tensorflow2\\lib\\site-packages\\tensorflow\\python\\keras\\engine\\base_layer.py\u001b[0m in \u001b[0;36m__call__\u001b[1;34m(self, *args, **kwargs)\u001b[0m\n\u001b[0;32m   1010\u001b[0m         with autocast_variable.enable_auto_cast_variables(\n\u001b[0;32m   1011\u001b[0m             self._compute_dtype_object):\n\u001b[1;32m-> 1012\u001b[1;33m           \u001b[0moutputs\u001b[0m \u001b[1;33m=\u001b[0m \u001b[0mcall_fn\u001b[0m\u001b[1;33m(\u001b[0m\u001b[0minputs\u001b[0m\u001b[1;33m,\u001b[0m \u001b[1;33m*\u001b[0m\u001b[0margs\u001b[0m\u001b[1;33m,\u001b[0m \u001b[1;33m**\u001b[0m\u001b[0mkwargs\u001b[0m\u001b[1;33m)\u001b[0m\u001b[1;33m\u001b[0m\u001b[1;33m\u001b[0m\u001b[0m\n\u001b[0m\u001b[0;32m   1013\u001b[0m \u001b[1;33m\u001b[0m\u001b[0m\n\u001b[0;32m   1014\u001b[0m         \u001b[1;32mif\u001b[0m \u001b[0mself\u001b[0m\u001b[1;33m.\u001b[0m\u001b[0m_activity_regularizer\u001b[0m\u001b[1;33m:\u001b[0m\u001b[1;33m\u001b[0m\u001b[1;33m\u001b[0m\u001b[0m\n",
      "\u001b[1;32m~\\.conda\\envs\\tensorflow2\\lib\\site-packages\\tensorflow\\python\\keras\\engine\\functional.py\u001b[0m in \u001b[0;36mcall\u001b[1;34m(self, inputs, training, mask)\u001b[0m\n\u001b[0;32m    422\u001b[0m         \u001b[0ma\u001b[0m \u001b[0mlist\u001b[0m \u001b[0mof\u001b[0m \u001b[0mtensors\u001b[0m \u001b[1;32mif\u001b[0m \u001b[0mthere\u001b[0m \u001b[0mare\u001b[0m \u001b[0mmore\u001b[0m \u001b[0mthan\u001b[0m \u001b[0mone\u001b[0m \u001b[0moutputs\u001b[0m\u001b[1;33m.\u001b[0m\u001b[1;33m\u001b[0m\u001b[1;33m\u001b[0m\u001b[0m\n\u001b[0;32m    423\u001b[0m     \"\"\"\n\u001b[1;32m--> 424\u001b[1;33m     return self._run_internal_graph(\n\u001b[0m\u001b[0;32m    425\u001b[0m         inputs, training=training, mask=mask)\n\u001b[0;32m    426\u001b[0m \u001b[1;33m\u001b[0m\u001b[0m\n",
      "\u001b[1;32m~\\.conda\\envs\\tensorflow2\\lib\\site-packages\\tensorflow\\python\\keras\\engine\\functional.py\u001b[0m in \u001b[0;36m_run_internal_graph\u001b[1;34m(self, inputs, training, mask)\u001b[0m\n\u001b[0;32m    558\u001b[0m \u001b[1;33m\u001b[0m\u001b[0m\n\u001b[0;32m    559\u001b[0m         \u001b[0margs\u001b[0m\u001b[1;33m,\u001b[0m \u001b[0mkwargs\u001b[0m \u001b[1;33m=\u001b[0m \u001b[0mnode\u001b[0m\u001b[1;33m.\u001b[0m\u001b[0mmap_arguments\u001b[0m\u001b[1;33m(\u001b[0m\u001b[0mtensor_dict\u001b[0m\u001b[1;33m)\u001b[0m\u001b[1;33m\u001b[0m\u001b[1;33m\u001b[0m\u001b[0m\n\u001b[1;32m--> 560\u001b[1;33m         \u001b[0moutputs\u001b[0m \u001b[1;33m=\u001b[0m \u001b[0mnode\u001b[0m\u001b[1;33m.\u001b[0m\u001b[0mlayer\u001b[0m\u001b[1;33m(\u001b[0m\u001b[1;33m*\u001b[0m\u001b[0margs\u001b[0m\u001b[1;33m,\u001b[0m \u001b[1;33m**\u001b[0m\u001b[0mkwargs\u001b[0m\u001b[1;33m)\u001b[0m\u001b[1;33m\u001b[0m\u001b[1;33m\u001b[0m\u001b[0m\n\u001b[0m\u001b[0;32m    561\u001b[0m \u001b[1;33m\u001b[0m\u001b[0m\n\u001b[0;32m    562\u001b[0m         \u001b[1;31m# Update tensor_dict.\u001b[0m\u001b[1;33m\u001b[0m\u001b[1;33m\u001b[0m\u001b[1;33m\u001b[0m\u001b[0m\n",
      "\u001b[1;32m~\\.conda\\envs\\tensorflow2\\lib\\site-packages\\tensorflow\\python\\keras\\engine\\base_layer.py\u001b[0m in \u001b[0;36m__call__\u001b[1;34m(self, *args, **kwargs)\u001b[0m\n\u001b[0;32m   1010\u001b[0m         with autocast_variable.enable_auto_cast_variables(\n\u001b[0;32m   1011\u001b[0m             self._compute_dtype_object):\n\u001b[1;32m-> 1012\u001b[1;33m           \u001b[0moutputs\u001b[0m \u001b[1;33m=\u001b[0m \u001b[0mcall_fn\u001b[0m\u001b[1;33m(\u001b[0m\u001b[0minputs\u001b[0m\u001b[1;33m,\u001b[0m \u001b[1;33m*\u001b[0m\u001b[0margs\u001b[0m\u001b[1;33m,\u001b[0m \u001b[1;33m**\u001b[0m\u001b[0mkwargs\u001b[0m\u001b[1;33m)\u001b[0m\u001b[1;33m\u001b[0m\u001b[1;33m\u001b[0m\u001b[0m\n\u001b[0m\u001b[0;32m   1013\u001b[0m \u001b[1;33m\u001b[0m\u001b[0m\n\u001b[0;32m   1014\u001b[0m         \u001b[1;32mif\u001b[0m \u001b[0mself\u001b[0m\u001b[1;33m.\u001b[0m\u001b[0m_activity_regularizer\u001b[0m\u001b[1;33m:\u001b[0m\u001b[1;33m\u001b[0m\u001b[1;33m\u001b[0m\u001b[0m\n",
      "\u001b[1;32m~\\.conda\\envs\\tensorflow2\\lib\\site-packages\\tensorflow\\python\\keras\\layers\\core.py\u001b[0m in \u001b[0;36mcall\u001b[1;34m(self, inputs)\u001b[0m\n\u001b[0;32m   1205\u001b[0m \u001b[1;33m\u001b[0m\u001b[0m\n\u001b[0;32m   1206\u001b[0m   \u001b[1;32mdef\u001b[0m \u001b[0mcall\u001b[0m\u001b[1;33m(\u001b[0m\u001b[0mself\u001b[0m\u001b[1;33m,\u001b[0m \u001b[0minputs\u001b[0m\u001b[1;33m)\u001b[0m\u001b[1;33m:\u001b[0m\u001b[1;33m\u001b[0m\u001b[1;33m\u001b[0m\u001b[0m\n\u001b[1;32m-> 1207\u001b[1;33m     return core_ops.dense(\n\u001b[0m\u001b[0;32m   1208\u001b[0m         \u001b[0minputs\u001b[0m\u001b[1;33m,\u001b[0m\u001b[1;33m\u001b[0m\u001b[1;33m\u001b[0m\u001b[0m\n\u001b[0;32m   1209\u001b[0m         \u001b[0mself\u001b[0m\u001b[1;33m.\u001b[0m\u001b[0mkernel\u001b[0m\u001b[1;33m,\u001b[0m\u001b[1;33m\u001b[0m\u001b[1;33m\u001b[0m\u001b[0m\n",
      "\u001b[1;32m~\\.conda\\envs\\tensorflow2\\lib\\site-packages\\tensorflow\\python\\keras\\layers\\ops\\core.py\u001b[0m in \u001b[0;36mdense\u001b[1;34m(inputs, kernel, bias, activation, dtype)\u001b[0m\n\u001b[0;32m     51\u001b[0m       \u001b[0moutputs\u001b[0m \u001b[1;33m=\u001b[0m \u001b[0msparse_ops\u001b[0m\u001b[1;33m.\u001b[0m\u001b[0msparse_tensor_dense_matmul\u001b[0m\u001b[1;33m(\u001b[0m\u001b[0minputs\u001b[0m\u001b[1;33m,\u001b[0m \u001b[0mkernel\u001b[0m\u001b[1;33m)\u001b[0m\u001b[1;33m\u001b[0m\u001b[1;33m\u001b[0m\u001b[0m\n\u001b[0;32m     52\u001b[0m     \u001b[1;32melse\u001b[0m\u001b[1;33m:\u001b[0m\u001b[1;33m\u001b[0m\u001b[1;33m\u001b[0m\u001b[0m\n\u001b[1;32m---> 53\u001b[1;33m       \u001b[0moutputs\u001b[0m \u001b[1;33m=\u001b[0m \u001b[0mgen_math_ops\u001b[0m\u001b[1;33m.\u001b[0m\u001b[0mmat_mul\u001b[0m\u001b[1;33m(\u001b[0m\u001b[0minputs\u001b[0m\u001b[1;33m,\u001b[0m \u001b[0mkernel\u001b[0m\u001b[1;33m)\u001b[0m\u001b[1;33m\u001b[0m\u001b[1;33m\u001b[0m\u001b[0m\n\u001b[0m\u001b[0;32m     54\u001b[0m   \u001b[1;31m# Broadcast kernel to inputs.\u001b[0m\u001b[1;33m\u001b[0m\u001b[1;33m\u001b[0m\u001b[1;33m\u001b[0m\u001b[0m\n\u001b[0;32m     55\u001b[0m   \u001b[1;32melse\u001b[0m\u001b[1;33m:\u001b[0m\u001b[1;33m\u001b[0m\u001b[1;33m\u001b[0m\u001b[0m\n",
      "\u001b[1;32m~\\.conda\\envs\\tensorflow2\\lib\\site-packages\\tensorflow\\python\\ops\\gen_math_ops.py\u001b[0m in \u001b[0;36mmat_mul\u001b[1;34m(a, b, transpose_a, transpose_b, name)\u001b[0m\n\u001b[0;32m   5529\u001b[0m       \u001b[1;32mreturn\u001b[0m \u001b[0m_result\u001b[0m\u001b[1;33m\u001b[0m\u001b[1;33m\u001b[0m\u001b[0m\n\u001b[0;32m   5530\u001b[0m     \u001b[1;32mexcept\u001b[0m \u001b[0m_core\u001b[0m\u001b[1;33m.\u001b[0m\u001b[0m_NotOkStatusException\u001b[0m \u001b[1;32mas\u001b[0m \u001b[0me\u001b[0m\u001b[1;33m:\u001b[0m\u001b[1;33m\u001b[0m\u001b[1;33m\u001b[0m\u001b[0m\n\u001b[1;32m-> 5531\u001b[1;33m       \u001b[0m_ops\u001b[0m\u001b[1;33m.\u001b[0m\u001b[0mraise_from_not_ok_status\u001b[0m\u001b[1;33m(\u001b[0m\u001b[0me\u001b[0m\u001b[1;33m,\u001b[0m \u001b[0mname\u001b[0m\u001b[1;33m)\u001b[0m\u001b[1;33m\u001b[0m\u001b[1;33m\u001b[0m\u001b[0m\n\u001b[0m\u001b[0;32m   5532\u001b[0m     \u001b[1;32mexcept\u001b[0m \u001b[0m_core\u001b[0m\u001b[1;33m.\u001b[0m\u001b[0m_FallbackException\u001b[0m\u001b[1;33m:\u001b[0m\u001b[1;33m\u001b[0m\u001b[1;33m\u001b[0m\u001b[0m\n\u001b[0;32m   5533\u001b[0m       \u001b[1;32mpass\u001b[0m\u001b[1;33m\u001b[0m\u001b[1;33m\u001b[0m\u001b[0m\n",
      "\u001b[1;32m~\\.conda\\envs\\tensorflow2\\lib\\site-packages\\tensorflow\\python\\framework\\ops.py\u001b[0m in \u001b[0;36mraise_from_not_ok_status\u001b[1;34m(e, name)\u001b[0m\n\u001b[0;32m   6860\u001b[0m   \u001b[0mmessage\u001b[0m \u001b[1;33m=\u001b[0m \u001b[0me\u001b[0m\u001b[1;33m.\u001b[0m\u001b[0mmessage\u001b[0m \u001b[1;33m+\u001b[0m \u001b[1;33m(\u001b[0m\u001b[1;34m\" name: \"\u001b[0m \u001b[1;33m+\u001b[0m \u001b[0mname\u001b[0m \u001b[1;32mif\u001b[0m \u001b[0mname\u001b[0m \u001b[1;32mis\u001b[0m \u001b[1;32mnot\u001b[0m \u001b[1;32mNone\u001b[0m \u001b[1;32melse\u001b[0m \u001b[1;34m\"\"\u001b[0m\u001b[1;33m)\u001b[0m\u001b[1;33m\u001b[0m\u001b[1;33m\u001b[0m\u001b[0m\n\u001b[0;32m   6861\u001b[0m   \u001b[1;31m# pylint: disable=protected-access\u001b[0m\u001b[1;33m\u001b[0m\u001b[1;33m\u001b[0m\u001b[1;33m\u001b[0m\u001b[0m\n\u001b[1;32m-> 6862\u001b[1;33m   \u001b[0msix\u001b[0m\u001b[1;33m.\u001b[0m\u001b[0mraise_from\u001b[0m\u001b[1;33m(\u001b[0m\u001b[0mcore\u001b[0m\u001b[1;33m.\u001b[0m\u001b[0m_status_to_exception\u001b[0m\u001b[1;33m(\u001b[0m\u001b[0me\u001b[0m\u001b[1;33m.\u001b[0m\u001b[0mcode\u001b[0m\u001b[1;33m,\u001b[0m \u001b[0mmessage\u001b[0m\u001b[1;33m)\u001b[0m\u001b[1;33m,\u001b[0m \u001b[1;32mNone\u001b[0m\u001b[1;33m)\u001b[0m\u001b[1;33m\u001b[0m\u001b[1;33m\u001b[0m\u001b[0m\n\u001b[0m\u001b[0;32m   6863\u001b[0m   \u001b[1;31m# pylint: enable=protected-access\u001b[0m\u001b[1;33m\u001b[0m\u001b[1;33m\u001b[0m\u001b[1;33m\u001b[0m\u001b[0m\n\u001b[0;32m   6864\u001b[0m \u001b[1;33m\u001b[0m\u001b[0m\n",
      "\u001b[1;32m~\\.conda\\envs\\tensorflow2\\lib\\site-packages\\six.py\u001b[0m in \u001b[0;36mraise_from\u001b[1;34m(value, from_value)\u001b[0m\n",
      "\u001b[1;31mInternalError\u001b[0m: Blas GEMM launch failed : a.shape=(1, 8192), b.shape=(8192, 128), m=1, n=128, k=8192 [Op:MatMul]"
     ]
    }
   ],
   "source": [
    "x = np.ones([1, 128, 128, 3])\n",
    "\n",
    "y = eye_decoder(eye_encoder(x))"
   ]
  },
  {
   "cell_type": "code",
   "execution_count": null,
   "id": "literary-perth",
   "metadata": {},
   "outputs": [],
   "source": [
    "i = 0\n",
    "img = ((y+1)/2)[i]\n",
    "plt.imshow(img)"
   ]
  },
  {
   "cell_type": "code",
   "execution_count": null,
   "id": "gentle-checkout",
   "metadata": {},
   "outputs": [],
   "source": [
    "x = np.ones([3, 128, 128, 3]) * np.random.uniform(size=(3, 1, 1, 3))\n",
    "\n",
    "y = eye_decoder(eye_encoder(x))\n",
    "\n",
    "def visualize(x, y, i=0):\n",
    "    \"\"\"Given input image x (B,H,W,3) and output image y (B,H,W,3).\n",
    "    Visualize x, y side by side.\n",
    "    \n",
    "    \"\"\"\n",
    "    x = ((x+1)/2)[i]\n",
    "    y = ((y+1)/2)[i]\n",
    "    \n",
    "    _, axs = plt.subplots(1,2, figsize=(20,10))\n",
    "    axs[0].imshow(x)\n",
    "    axs[1].imshow(y)\n",
    "    plt.show()\n",
    "    \n",
    "def inference(x, eye_encoder, eye_decoder):\n",
    "    return eye_decoder(eye_encoder(x))\n",
    "\n",
    "def visualize_batch(x, eye_encoder, eye_decoder):\n",
    "    \n",
    "    y = inference(x, eye_encoder, eye_decoder)\n",
    "    for i in range(x.shape[0]):\n",
    "        visualize(x, y, i)"
   ]
  },
  {
   "cell_type": "code",
   "execution_count": null,
   "id": "potential-winner",
   "metadata": {},
   "outputs": [],
   "source": [
    "visualize_batch(x, eye_encoder, eye_decoder)"
   ]
  },
  {
   "cell_type": "code",
   "execution_count": null,
   "id": "entire-indicator",
   "metadata": {},
   "outputs": [],
   "source": [
    "type(y)"
   ]
  },
  {
   "cell_type": "code",
   "execution_count": null,
   "id": "trained-summary",
   "metadata": {},
   "outputs": [],
   "source": []
  }
 ],
 "metadata": {
  "kernelspec": {
   "display_name": "Python 3",
   "language": "python",
   "name": "python3"
  },
  "language_info": {
   "codemirror_mode": {
    "name": "ipython",
    "version": 3
   },
   "file_extension": ".py",
   "mimetype": "text/x-python",
   "name": "python",
   "nbconvert_exporter": "python",
   "pygments_lexer": "ipython3",
   "version": "3.8.5"
  }
 },
 "nbformat": 4,
 "nbformat_minor": 5
}
